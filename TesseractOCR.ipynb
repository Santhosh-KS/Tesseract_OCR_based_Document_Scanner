{
 "cells": [
  {
   "cell_type": "code",
   "execution_count": 4,
   "metadata": {},
   "outputs": [],
   "source": [
    "#!pip install opencv-python\n",
    "#!pip3 install pytesseract"
   ]
  },
  {
   "cell_type": "code",
   "execution_count": 6,
   "metadata": {},
   "outputs": [],
   "source": [
    "from PIL import Image\n",
    "import pytesseract\n",
    "import cv2\n",
    "import os"
   ]
  },
  {
   "cell_type": "code",
   "execution_count": 7,
   "metadata": {},
   "outputs": [],
   "source": [
    "def get_string(img_path):\n",
    "    # Read image using opencv\n",
    "    img = cv2.imread(img_path)\n",
    "\n",
    "    # Extract the file name without the file extension\n",
    "    file_name = os.path.basename(img_path).split('.')[0]\n",
    "    file_name = file_name.split()[0]\n",
    "\n",
    "    # Create a directory for outputs\n",
    "    output_path = os.path.join(output_dir, file_name)\n",
    "    if not os.path.exists(output_path):\n",
    "        os.makedirs(output_path)"
   ]
  },
  {
   "cell_type": "code",
   "execution_count": 2,
   "metadata": {},
   "outputs": [],
   "source": [
    "image = cv2.imread(\"D:\\\\Work\\\\Python\\\\OCR\\\\images\\\\bill_1.jpg\")"
   ]
  },
  {
   "cell_type": "code",
   "execution_count": 12,
   "metadata": {
    "scrolled": true
   },
   "outputs": [],
   "source": [
    "cv2.imshow(\"Image\", image)\n",
    "cv2.waitKey(0)\n",
    "cv2.destroyAllWindows()"
   ]
  },
  {
   "cell_type": "code",
   "execution_count": 3,
   "metadata": {},
   "outputs": [],
   "source": [
    "pytesseract.pytesseract.tesseract_cmd = r\"C:\\Program Files (x86)\\Tesseract-OCR\\tesseract.exe\""
   ]
  },
  {
   "cell_type": "code",
   "execution_count": 4,
   "metadata": {},
   "outputs": [],
   "source": [
    "text = pytesseract.image_to_string(image)"
   ]
  },
  {
   "cell_type": "code",
   "execution_count": 5,
   "metadata": {},
   "outputs": [
    {
     "data": {
      "text/plain": [
       "'1 No Waiter\\n\\nABéis WAITER\\nsais Price\\n\\nSe tt em net iw SS re e-em Sn Sm on ane wn ee ee ome own aw\\n\\nFLAVOURED MOJITO 380. 00 1,000 33\\n\\nSUCUNBER MINT 70000 1.000 170.0\\nLONG ISLAND ELEC 340.00 2.0%\\nQRUNCHY SALAD 160.00 1.000\\nASSORTED SATAY 260.00 1.00¢\\n\\nTEQUILA CHICKEN 320,00 1.000\\nFAJITAS CHICKEN 300.00 1.0UC\\nSURF N TURF 360.00 1.000\\nTota) Quantity 9.00\\nGross Tota!\\nVAT 5.5%\\nVAT 14.5%\\n\\nService Tax 5.6%\\n\\n| Service Charges 10.00%\\n\\n~ Net Amount\\n\\nGet Back Joe Joe)\\n\\nA Re i i A Nin a tk A RE Sr ie\\n\\n \\n\\ni'"
      ]
     },
     "execution_count": 5,
     "metadata": {},
     "output_type": "execute_result"
    }
   ],
   "source": [
    "text"
   ]
  },
  {
   "cell_type": "code",
   "execution_count": 16,
   "metadata": {},
   "outputs": [],
   "source": [
    "height, width = image.shape[:2]"
   ]
  },
  {
   "cell_type": "code",
   "execution_count": 17,
   "metadata": {},
   "outputs": [
    {
     "data": {
      "text/plain": [
       "2710"
      ]
     },
     "execution_count": 17,
     "metadata": {},
     "output_type": "execute_result"
    }
   ],
   "source": [
    "height"
   ]
  },
  {
   "cell_type": "code",
   "execution_count": 18,
   "metadata": {},
   "outputs": [
    {
     "data": {
      "text/plain": [
       "1676"
      ]
     },
     "execution_count": 18,
     "metadata": {},
     "output_type": "execute_result"
    }
   ],
   "source": [
    "width"
   ]
  },
  {
   "cell_type": "code",
   "execution_count": 48,
   "metadata": {},
   "outputs": [],
   "source": [
    "img = cv2.resize(image, None, fx=2.5, fy=2.5, interpolation=cv2.INTER_CUBIC)"
   ]
  },
  {
   "cell_type": "code",
   "execution_count": 36,
   "metadata": {},
   "outputs": [
    {
     "data": {
      "text/plain": [
       "4190"
      ]
     },
     "execution_count": 36,
     "metadata": {},
     "output_type": "execute_result"
    }
   ],
   "source": [
    "height, width = img.shape[:2]\n",
    "width"
   ]
  },
  {
   "cell_type": "code",
   "execution_count": 37,
   "metadata": {},
   "outputs": [],
   "source": [
    "text = pytesseract.image_to_string(img)"
   ]
  },
  {
   "cell_type": "code",
   "execution_count": 38,
   "metadata": {},
   "outputs": [
    {
     "data": {
      "text/plain": [
       "\"dt.\\n‘hk. be, Meue\\nos . f\\nas\\nrat =\\n' ee ther han J\\ni. VARs, 3 ‘&\\nms ; ~\\nher ow : 4 A -\\ny ' Nal tea? Sf\\nan a ee\\n7 IN etm ; os\\n| > . 4 den Ye: wh &\\nAan\\nf i — ba\\nee \\\\ . &\\n—  —. i, Ck ho ome > » ~~ - :\\n-_ ; ~\\n. om\\nBi) ‘ Na we ter INC A wa '\\n-_-_— we a ~ =~ we —- ~\\n_ — ~ \\\\ * on\\n— Tee rm Va hk iw a Lt 1) ao\\n1 5 F ; 3 le i |\\nageis WAITER D015 UO/U0/2UI-\\nee OND cae ee Oe Sto: er em a ee ee => vee, anh Oo ® > to me _—\\n\\nitem Price Oty\\n\\nFLAVOURED MOJITO 330, 00 1,000 330.00\\nUUNBER MINT WONG) 1.000 170.00\\n\\nONG ISLAND ELEC 340.00 6 .00U +80 .00\\n\\nCRUNCHY ¥ SALAD 160.00 1.\\n\\nASSORTED SATAY 260,00 1.000 26...\\n\\nTEQUILA CHICKEN 320.00 0 326 . 0\\n\\nFAJITAS CHICKEN 300.00 | 100\\n\\nSURF N TURF 360.00 1\\n\\nTota) Quantity 9.000\\n\\nGross Tota!\\n\\nVAT 5.5% 65.86\\n\\nVAT 14.5% 227.6\\n\\nService Tax 5.6% 8.9\\n\\nService Charges 10.00%\\n\\nGet Back Joe Joe.\\n\\nae ERE Se et le SR AR Al Nin ag: rt he Sa OE I ee\""
      ]
     },
     "execution_count": 38,
     "metadata": {},
     "output_type": "execute_result"
    }
   ],
   "source": [
    "text"
   ]
  },
  {
   "cell_type": "code",
   "execution_count": 43,
   "metadata": {},
   "outputs": [],
   "source": [
    "    import numpy as np\n",
    "    # Convert to gray\n",
    "    img_2 = cv2.cvtColor(img, cv2.COLOR_BGR2GRAY)\n",
    "\n",
    "    # Apply dilation and erosion to remove some noise\n",
    "    kernel = np.ones((1, 1), np.uint8)\n",
    "    #img_2 = cv2.dilate(img_2, kernel, iterations=1)\n",
    "    #img_2 = cv2.erode(img_2, kernel, iterations=1)\n",
    "\n",
    "    # Apply blur to smooth out the edges\n",
    "    #img_2 = cv2.GaussianBlur(img_2, (5, 5), 0)"
   ]
  },
  {
   "cell_type": "code",
   "execution_count": 49,
   "metadata": {},
   "outputs": [],
   "source": [
    "text_2 = pytesseract.image_to_string(img_2)"
   ]
  },
  {
   "cell_type": "code",
   "execution_count": 50,
   "metadata": {},
   "outputs": [
    {
     "data": {
      "text/plain": [
       "'eer = ~< Toe ho oe\\n\\n~_—-_—\\nAgsis wa\\n\\n \\n\\nee we ~ @& ee — Se -— “= om Qe ee SOR oe SE OT a\\n\\nFLAVOURED MOJITO\\n\\nSUCUMBER MINT 170.00 1.000\\n‘ONG TSLAND ELEC 340.00 2 .UOU\\nCRUNCHY SALAD 160.00 1.000\\nASSORTED SATAY 260.00 1.0UC\\nTEQUILA CHICKEN 9320.00 1.0C\\\\\\nFAJTTAS | CHICKEN 300.00 1.00\\nSURF N TURF 360.00 1,006\\nTotal Quant ity 9.00!\\n\\nGross Total\\nVAT 5.5%\\nVAT 14.5 %\\n\\n330. 00 1.000 33\\n\\\\f |\\n\\n \\n\\nService Tax 5.6 %\\nService Charges 10.00%\\nNet Amount\\nGet Back Joe Joe\\n\\nA eee eer ae I Re ee em ee ee'"
      ]
     },
     "execution_count": 50,
     "metadata": {},
     "output_type": "execute_result"
    }
   ],
   "source": [
    "text_2"
   ]
  },
  {
   "cell_type": "code",
   "execution_count": 12,
   "metadata": {},
   "outputs": [],
   "source": [
    "    img_3 = cv2.cvtColor(image, cv2.COLOR_BGR2GRAY)\n",
    "\n",
    "    # Apply dilation and erosion to remove some noise\n",
    "    kernel = np.ones((1, 1), np.uint8)\n",
    "    img_3 = cv2.dilate(img_3, kernel, iterations=1)\n",
    "    img_3 = cv2.erode(img_3, kernel, iterations=1)\n",
    "\n",
    "    # Apply blur to smooth out the edges\n",
    "    img_3 = cv2.GaussianBlur(img_3, (1, 1), 0)"
   ]
  },
  {
   "cell_type": "code",
   "execution_count": 13,
   "metadata": {},
   "outputs": [],
   "source": [
    "text_3 = pytesseract.image_to_string(img_3)"
   ]
  },
  {
   "cell_type": "code",
   "execution_count": 14,
   "metadata": {},
   "outputs": [
    {
     "data": {
      "text/plain": [
       "\"sa Sa i A ee tome\\n\\nBil 1 No wet ter\\nABs is WAITER N15 6, 6\\n\\nie em ee aR ie ey Ne me ew se ee SR OR a Ds a Me we\\n\\nItem Price\\n\\na ae i heen a UR Yin SS ON he\\n\\nFLAVOURED MOJITO 330. 00\\n\\npenal '\\n\\nUCUMBER MINT 170.00 1.\\n“ONG ISLAND ELEC 340.00 2\\nCRUNCHY SALAD 10.0 1.\\nASSORTED SATAY 260,00 |\\nTEQUILA CHICKEN 320.00 |\\nFAJITAS CHICKEN 300.00 1.\\nSURF N TURF 360, ae\\nTotal Reatity 9\\nGross Tota!\\n\\nVAT 5.5%\\nVAT 14.5%\\n\\nService Tax 5.6%\\nService Charges 10.00%\\nNet Amount\\nGet Back Joe Joe.\\n\\nA OE Re i ee th A i NA a lk AS RS Ne i\\n\\nNed Me\\n\\n \\n\\nI a rc\""
      ]
     },
     "execution_count": 14,
     "metadata": {},
     "output_type": "execute_result"
    }
   ],
   "source": [
    "text_3"
   ]
  },
  {
   "cell_type": "code",
   "execution_count": null,
   "metadata": {},
   "outputs": [],
   "source": [
    "cv2.imshow(\"Image\", img_3)\n",
    "cv2.waitKey(0)\n",
    "cv2.destroyAllWindows()"
   ]
  },
  {
   "cell_type": "code",
   "execution_count": 20,
   "metadata": {},
   "outputs": [],
   "source": [
    "config = ('-l eng --oem 1 --psm 3')"
   ]
  },
  {
   "cell_type": "code",
   "execution_count": 17,
   "metadata": {},
   "outputs": [],
   "source": [
    "img_4 = cv2.threshold(img_3, 0, 255, cv2.THRESH_BINARY + cv2.THRESH_OTSU)[1]"
   ]
  },
  {
   "cell_type": "code",
   "execution_count": 21,
   "metadata": {},
   "outputs": [],
   "source": [
    "    #save_path = os.path.join(output_path, file_name + \"_filter_\" + str(method) + \".jpg\")\n",
    "    #cv2.imwrite(save_path, img)\n",
    "\n",
    "    # Recognize text with tesseract for python\n",
    "    result = pytesseract.image_to_string(img_4, config=config)"
   ]
  },
  {
   "cell_type": "code",
   "execution_count": 22,
   "metadata": {},
   "outputs": [
    {
     "data": {
      "text/plain": [
       "'nee\\n\\nBr + No ‘Way te-\\nAggie wae ed PIs Oo oo\\n\\na Dm wwe\\n\\nItem Price\\n\\n~—e ee ee ee ee\\n\\nHaNURED MOJITO 330. 00\\n\\na\" t\\n\\nUCUMBER MINT 170.90 i.\\nN3 TSLANO SLFP 340.00\\nCRUNCRY SALAL 180.00 tf.\\nASSORTED SATAY 260,00)\\nTEQUILA CHICKEN 320.00 |\\nFAJITAS CHICKEN 300.00 1,\\nSURF N TURF 360. Gu 1,\\nTotal Quant ity 2\\nGross Total\\nVAT 5.5%\\n\\nVAT 14.5%\\n\\nService Tax 5.6 %\\nService Charges 10.00%\\nNet Amount\\nGet Back Joe vr\\n\\ni ln tathaeiniettl chanted akon siete miee tained\\n\\neo\\n\\n \\n\\nie, oe 2 BE ee'"
      ]
     },
     "execution_count": 22,
     "metadata": {},
     "output_type": "execute_result"
    }
   ],
   "source": [
    "result"
   ]
  },
  {
   "cell_type": "code",
   "execution_count": 29,
   "metadata": {},
   "outputs": [],
   "source": [
    "from PIL import Image, ImageEnhance, ImageFilter\n",
    "im = Image.open(\"D:\\\\Work\\\\Python\\\\OCR\\\\images\\\\bill_1.jpg\") \n"
   ]
  },
  {
   "cell_type": "code",
   "execution_count": 52,
   "metadata": {},
   "outputs": [],
   "source": [
    "hsv = cv2.cvtColor(img, cv2.COLOR_BGR2HSV) #convert it to hsv\n",
    "\n",
    "for x in range(0, len(hsv)):\n",
    "    for y in range(0, len(hsv[0])):\n",
    "        hsv[x, y][2] += 20\n",
    "\n",
    "img = cv2.cvtColor(hsv, cv2.COLOR_HSV2BGR)"
   ]
  },
  {
   "cell_type": "code",
   "execution_count": 57,
   "metadata": {},
   "outputs": [],
   "source": [
    "def increase_brightness(img, value=30):\n",
    "    hsv = cv2.cvtColor(img, cv2.COLOR_BGR2HSV)\n",
    "    h, s, v = cv2.split(hsv)\n",
    "\n",
    "    lim = 255 - value\n",
    "    v[v > lim] = 255\n",
    "    v[v <= lim] += value\n",
    "\n",
    "    final_hsv = cv2.merge((h, s, v))\n",
    "    img = cv2.cvtColor(final_hsv, cv2.COLOR_HSV2BGR)\n",
    "    return img"
   ]
  },
  {
   "cell_type": "code",
   "execution_count": 64,
   "metadata": {},
   "outputs": [],
   "source": [
    "img = increase_brightness(img, value=80)"
   ]
  },
  {
   "cell_type": "code",
   "execution_count": 65,
   "metadata": {},
   "outputs": [],
   "source": [
    "text = pytesseract.image_to_string(img,config=config)"
   ]
  },
  {
   "cell_type": "code",
   "execution_count": 66,
   "metadata": {},
   "outputs": [
    {
     "data": {
      "text/plain": [
       "'r\\n\\n- * \"\\n\\n#\\n\\na\\n\\na\\npo\" 7\\n\\ni\\n\\n    \\n    \\n\\n   \\n\\na\\n\\na a in me\\na i +\\n\\n*,\\n\\n‘\\n\\n-- =e *\\n\\n \\n\\n  \\n\\n* . %. a i ‘ , ,\\n\\n*»\\n\\n—\\n\\na\\n\\nry ——\\n\\nhe\\n\\n» well\\n\\naad\\n\\n \\n\\n*'"
      ]
     },
     "execution_count": 66,
     "metadata": {},
     "output_type": "execute_result"
    }
   ],
   "source": [
    "text"
   ]
  },
  {
   "cell_type": "code",
   "execution_count": 54,
   "metadata": {},
   "outputs": [],
   "source": [
    "cv2.imshow(\"Image\", img)\n",
    "cv2.waitKey(0)\n",
    "cv2.destroyAllWindows()"
   ]
  },
  {
   "cell_type": "code",
   "execution_count": 75,
   "metadata": {},
   "outputs": [
    {
     "data": {
      "image/png": "[encoded data removed]",
      "text/plain": [
       "<matplotlib.figure.Figure at 0x12a35dbfb00>"
      ]
     },
     "metadata": {},
     "output_type": "display_data"
    }
   ],
   "source": [
    "import cv2\n",
    "import numpy as np\n",
    "from matplotlib import pyplot as plt\n",
    "\n",
    "img = cv2.imread('D:\\\\Work\\\\Python\\\\OCR\\\\images\\\\bill_1.jpg',0)\n",
    "img = cv2.medianBlur(img,5)\n",
    "\n",
    "ret,th1 = cv2.threshold(img,127,255,cv2.THRESH_BINARY)\n",
    "th2 = cv2.adaptiveThreshold(img,255,cv2.ADAPTIVE_THRESH_MEAN_C,\\\n",
    "            cv2.THRESH_BINARY,11,2)\n",
    "th3 = cv2.adaptiveThreshold(img,255,cv2.ADAPTIVE_THRESH_GAUSSIAN_C,\\\n",
    "            cv2.THRESH_BINARY,11,2)\n",
    "\n",
    "titles = ['Original Image', 'Global Thresholding (v = 127)',\n",
    "            'Adaptive Mean Thresholding', 'Adaptive Gaussian Thresholding']\n",
    "images = [img, th1, th2, th3]\n",
    "\n",
    "for i in range(4):\n",
    "    plt.subplot(2,2,i+1),plt.imshow(images[i],'gray')\n",
    "    plt.title(titles[i])\n",
    "    plt.xticks([]),plt.yticks([])\n",
    "plt.show()"
   ]
  },
  {
   "cell_type": "code",
   "execution_count": 70,
   "metadata": {},
   "outputs": [
    {
     "data": {
      "image/png": "[encoded data removed]",
      "text/plain": [
       "<matplotlib.figure.Figure at 0x12a35d54eb8>"
      ]
     },
     "metadata": {},
     "output_type": "display_data"
    }
   ],
   "source": [
    "import cv2\n",
    "import numpy as np\n",
    "from matplotlib import pyplot as plt\n",
    "\n",
    "img = cv2.imread('D:\\\\Work\\\\Python\\\\OCR\\\\images\\\\bill_1.jpg',0)\n",
    "\n",
    "# global thresholding\n",
    "ret1,th1 = cv2.threshold(img,127,255,cv2.THRESH_BINARY)\n",
    "\n",
    "# Otsu's thresholding\n",
    "ret2,th2 = cv2.threshold(img,0,255,cv2.THRESH_BINARY+cv2.THRESH_OTSU)\n",
    "\n",
    "# Otsu's thresholding after Gaussian filtering\n",
    "blur = cv2.GaussianBlur(img,(5,5),0)\n",
    "ret3,th3 = cv2.threshold(blur,0,255,cv2.THRESH_BINARY+cv2.THRESH_OTSU)\n",
    "\n",
    "# plot all the images and their histograms\n",
    "images = [img, 0, th1,\n",
    "          img, 0, th2,\n",
    "          blur, 0, th3]\n",
    "titles = ['Original Noisy Image','Histogram','Global Thresholding (v=127)',\n",
    "          'Original Noisy Image','Histogram',\"Otsu's Thresholding\",\n",
    "          'Gaussian filtered Image','Histogram',\"Otsu's Thresholding\"]\n",
    "\n",
    "for i in range(3):\n",
    "    plt.subplot(3,3,i*3+1),plt.imshow(images[i*3],'gray')\n",
    "    plt.title(titles[i*3]), plt.xticks([]), plt.yticks([])\n",
    "    plt.subplot(3,3,i*3+2),plt.hist(images[i*3].ravel(),256)\n",
    "    plt.title(titles[i*3+1]), plt.xticks([]), plt.yticks([])\n",
    "    plt.subplot(3,3,i*3+3),plt.imshow(images[i*3+2],'gray')\n",
    "    plt.title(titles[i*3+2]), plt.xticks([]), plt.yticks([])\n",
    "plt.show()"
   ]
  },
  {
   "cell_type": "code",
   "execution_count": 76,
   "metadata": {},
   "outputs": [
    {
     "data": {
      "text/plain": [
       "True"
      ]
     },
     "execution_count": 76,
     "metadata": {},
     "output_type": "execute_result"
    }
   ],
   "source": [
    "cv2.imwrite('th2-orig.png',th2)\n",
    "cv2.imwrite('th3-orig.png',th3)"
   ]
  },
  {
   "cell_type": "code",
   "execution_count": 77,
   "metadata": {},
   "outputs": [],
   "source": [
    "text = pytesseract.image_to_string(th2)"
   ]
  },
  {
   "cell_type": "code",
   "execution_count": 78,
   "metadata": {},
   "outputs": [
    {
     "data": {
      "text/plain": [
       "'oe “TRE Local. DINERS |\\n07s, 4th Cross, -2nd Block, fos\\noes RRBR Layout, Kalyan Nagar, a ae ay\\nBANGALORE-560 043° oe\\nPH: 080 °41440067 aes\\nTIN: 29081176093...\\nos QASH/BILL\\n\\nve Bernt cnn sen nr ncn ee 7\\n\\n7 Bill No- Waiter ©\\n\\n: ee Ae nate\\n\\n      \\n  \\n\\nae we eae wee oe veneer eenne .-\\n\\nme ee ween nnn e nnn ene nner nad\\n\\novo} FLAVOURED NOUITO 330,00 1,000 330,00.. °° |\\n~¥\" CUCUNBER MINT: .170.00..,1.000 170.00 0. |\\n~. ¢ LONG ISEAND™ ELEC” “940.007. 2,000 G80.00°°\\n_-} CRUNCHY SALAD~--.- 180. 00-° 1,000. 180.00\\n\" f ASSORTED SATAY 260.00 1.000 260.00\\n“ef TEQUILA CHICKEN’ 320.00, 1,000 320.00 °F\\nA | FAJTTAS CHICKEN 300.00°- 1, 000 .300:60 =\\n7 SURF N-TURF 960.00 - 1,000. 360.00 oot\\n\\n   \\n\\n   \\n     \\n \\n   \\n      \\n      \\n\\n) Tatar cantity og Od\\n{Gross Total Soe \"20. dO 2\\n\\\\\\n\\n  \\n\\npO VAT 5.5 8 oe S888\\nVAT. 14.5 , a 2, 652\\n“46 Service Tax” 5.8 +. me VR\\nPo Service: Charges 10. 008 258.0)\\n7 ee Amount» oe » gaan. QQ ee\\nJo - Gat Back clog bel te TS\\n\\neel — Spa Dey a tg te?\\not Hen mm ae tae ee renee: se mower eee, ~ fee ag ee\\n* 5 .\\n\\n \\n\\nag\\n\\ne Be Sod\\npee Bt veg'"
      ]
     },
     "execution_count": 78,
     "metadata": {},
     "output_type": "execute_result"
    }
   ],
   "source": [
    "text"
   ]
  },
  {
   "cell_type": "code",
   "execution_count": 116,
   "metadata": {},
   "outputs": [],
   "source": [
    "    kernel = np.ones((3, 3), np.uint8)\n",
    "    th2_2 = cv2.erode(th2, kernel, iterations=1)\n",
    "    th2_3 = cv2.dilate(th2_2, kernel, iterations=1)\n",
    "    \n",
    "    #th2_4=cv2.morphologyEx(th2,cv2.MORPH_OPEN,kernel)\n",
    "    #th2_5=cv2.morphologyEx(th2_4,cv2.MORPH_CLOSE,kernel)\n",
    "\n",
    "    # Apply blur to smooth out the edges\n",
    "    #th2_3 = cv2.GaussianBlur(th2_3, (5, 5), 0)"
   ]
  },
  {
   "cell_type": "code",
   "execution_count": 117,
   "metadata": {},
   "outputs": [],
   "source": [
    "text = pytesseract.image_to_string(th2_3)"
   ]
  },
  {
   "cell_type": "code",
   "execution_count": 86,
   "metadata": {},
   "outputs": [
    {
     "data": {
      "text/plain": [
       "'oT Tatar Quant ity\\n\\n  \\n\\nTHE Local DINERS:\\n\\n= 10075, th Cross, 2nd Block,\\n\\n_RRBR Layout, Kalyan Nagar ys me\\nBANGALORE-560 043.\\nPH: 080 41440087\\n\\nth 9081176093\\n\\nee\\n\\nSe ee eee Oe tee ee Oe ee ee Oe Oe eee ED ED ee tS ee Oe ee\\n| nln eee eee eee nnn\\nee ee ee we ome ween enna\\n\\nsay 330.00 1, 00:\\n“T\" CUCUMBER MINT... 170.00... 1.000 170.00.\\n\\n_ LONG ISLAND” ELEC™ 340.00 2.000 G80.00°°\\n\\']> CRUNCHY SALAD... 160,00. 1,000 160.00 0.\\n\\n“ASSORTED SATAY 260.00 1.000 266.00 ©\\n\\n-., FLAVOURED NOJITO\\n\\n“<a\\n\\na\\n\\nee eee ere ee me me\\n\\nTEQUILA CHICKEN: 320.00. 1,000. 320.00\\n\\n——— oe me ee ene i el\\n\\n4] FAATTAS CHICKEN 300.00 - 1,000 900.69 |\\n“SURF. W TURF m 00. 0 0.0 4\\n\\nae ee ee ae 0 Se te ee ee\\n\\n| Gross Total - 2580.00 6s.\\nVAT 5.5% $5.55.\\n\\n| var hig w QING.\\n\\n|) Service Tax 5, 6% eo YGRGR\\n~. Service Charges 10. 00K ee OBB AQ\\n: ‘Net Amount 3 9780.00. BRS f\\n“ - Get Back: Joe see Chose MA eA\\n\\nCLP fie SUPE Sg'"
      ]
     },
     "execution_count": 86,
     "metadata": {},
     "output_type": "execute_result"
    }
   ],
   "source": [
    "text"
   ]
  },
  {
   "cell_type": "code",
   "execution_count": 118,
   "metadata": {},
   "outputs": [
    {
     "data": {
      "text/plain": [
       "'| FLAVOURED MOJITO 330.00 930.00. |.\\n“1 CUCUMBER MINT... 170.00... 1.000 170.000\\n\\n— } LONG: ISLAND” ELEC™ \"340:007 2.000 680.007\\n7 CRUNCHY SALAD. 160.00.\" 1,000 160.00 0\\nJ ASSORTED SATAY. 260.00 1,000 260.00\\n2] TEQUILA CHICKEN’ 320.00. 1.000 320.007 .\\n4] ~ FASTTAS CHICKEN 300.00. 1.000 900.09 =}\\n| SURF N TURF 960,00 . 1,000. 0.00 |\\n\\n4) Total Quant ity - oes | a\\nos _ Gross Total Mee * 580. OF\\nop VAT: 14.5 Ko oes mr ae Bes\\n{2 Service Tax - 5. et . ee VBR Ge\\n\\' |. Service- Charges. 10, 008 ee BBB AN\\nae Amount . * qpan, OO. es\\nS _ Gat Back J Joe ot ye EL\\n\\n  \\n\\nwe BS OTHE: Local DINERS\\naot, 4th Cross, 2nd Block,\\n\\naoe RRBR Layout, Kalyan. Nagar;\\nSO BANGALORE-560 043°\\n\\nPH: 080.41440087 oe\\nTIN: 28081176093.\\n\\n-CASH/BILL.\\n\\nr enn tne nce nee ese tet Te\\n\\n7 Bill No- Waiter |\\n\\n \\n\\n: re pa nectec ne necononenens\\n\\nee we ee we ms ween nanan nnn .-\\n\\neee penne nee nn enna owe ere ee ee ee oe\\n\\noF oa\\n\\n. eee eee Leen ene ao sn eee een\\n\\non Hikes \\\\ ate\\n\\nwe yew Mee\\nBeh NE a\\npet me ‘.'"
      ]
     },
     "execution_count": 118,
     "metadata": {},
     "output_type": "execute_result"
    }
   ],
   "source": [
    "text"
   ]
  },
  {
   "cell_type": "code",
   "execution_count": 119,
   "metadata": {},
   "outputs": [
    {
     "data": {
      "text/plain": [
       "True"
      ]
     },
     "execution_count": 119,
     "metadata": {},
     "output_type": "execute_result"
    }
   ],
   "source": [
    "cv2.imwrite('th2_3-orig.png',th2_3)"
   ]
  }
 ],
 "metadata": {
  "kernelspec": {
   "display_name": "Python 3",
   "language": "python",
   "name": "python3"
  },
  "language_info": {
   "codemirror_mode": {
    "name": "ipython",
    "version": 3
   },
   "file_extension": ".py",
   "mimetype": "text/x-python",
   "name": "python",
   "nbconvert_exporter": "python",
   "pygments_lexer": "ipython3",
   "version": "3.5.2"
  }
 },
 "nbformat": 4,
 "nbformat_minor": 2
}
